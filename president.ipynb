{
 "cells": [
  {
   "cell_type": "code",
   "execution_count": 98,
   "outputs": [],
   "source": [
    "import pandas as pd"
   ],
   "metadata": {
    "collapsed": false,
    "pycharm": {
     "name": "#%%\n"
    }
   }
  },
  {
   "cell_type": "code",
   "execution_count": 99,
   "outputs": [],
   "source": [
    "QTD_ELEITORES = 156454011"
   ],
   "metadata": {
    "collapsed": false,
    "pycharm": {
     "name": "#%%\n"
    }
   }
  },
  {
   "cell_type": "code",
   "execution_count": 100,
   "outputs": [],
   "source": [
    "url = \"https://resultados.tse.jus.br/oficial/ele2022/545/dados-simplificados/br/br-c0001-e000545-r.json\""
   ],
   "metadata": {
    "collapsed": false,
    "pycharm": {
     "name": "#%%\n"
    }
   }
  },
  {
   "cell_type": "code",
   "execution_count": 101,
   "outputs": [],
   "source": [
    "df = pd.read_json(url)"
   ],
   "metadata": {
    "collapsed": false,
    "pycharm": {
     "name": "#%%\n"
    }
   }
  },
  {
   "cell_type": "code",
   "execution_count": 102,
   "outputs": [
    {
     "data": {
      "text/plain": "   ele tpabr cdabr  carper md  t  f          dg        hg          dt  ... vp  \\\n0  545    br    br       1  N  2  o  30/10/2022  17:54:05  30/10/2022  ...  0   \n1  545    br    br       1  N  2  o  30/10/2022  17:54:05  30/10/2022  ...  0   \n\n    pvp        vv     pvv van  pvan  vansj  pvansj        tv  \\\n0  0,00  27890467  100,00   0  0,00      0    0,00  29104317   \n1  0,00  27890467  100,00   0  0,00      0    0,00  29104317   \n\n                                                cand  \n0  {'seq': '1', 'sqcand': '280001618036', 'n': '2...  \n1  {'seq': '2', 'sqcand': '280001607829', 'n': '1...  \n\n[2 rows x 65 columns]",
      "text/html": "<div>\n<style scoped>\n    .dataframe tbody tr th:only-of-type {\n        vertical-align: middle;\n    }\n\n    .dataframe tbody tr th {\n        vertical-align: top;\n    }\n\n    .dataframe thead th {\n        text-align: right;\n    }\n</style>\n<table border=\"1\" class=\"dataframe\">\n  <thead>\n    <tr style=\"text-align: right;\">\n      <th></th>\n      <th>ele</th>\n      <th>tpabr</th>\n      <th>cdabr</th>\n      <th>carper</th>\n      <th>md</th>\n      <th>t</th>\n      <th>f</th>\n      <th>dg</th>\n      <th>hg</th>\n      <th>dt</th>\n      <th>...</th>\n      <th>vp</th>\n      <th>pvp</th>\n      <th>vv</th>\n      <th>pvv</th>\n      <th>van</th>\n      <th>pvan</th>\n      <th>vansj</th>\n      <th>pvansj</th>\n      <th>tv</th>\n      <th>cand</th>\n    </tr>\n  </thead>\n  <tbody>\n    <tr>\n      <th>0</th>\n      <td>545</td>\n      <td>br</td>\n      <td>br</td>\n      <td>1</td>\n      <td>N</td>\n      <td>2</td>\n      <td>o</td>\n      <td>30/10/2022</td>\n      <td>17:54:05</td>\n      <td>30/10/2022</td>\n      <td>...</td>\n      <td>0</td>\n      <td>0,00</td>\n      <td>27890467</td>\n      <td>100,00</td>\n      <td>0</td>\n      <td>0,00</td>\n      <td>0</td>\n      <td>0,00</td>\n      <td>29104317</td>\n      <td>{'seq': '1', 'sqcand': '280001618036', 'n': '2...</td>\n    </tr>\n    <tr>\n      <th>1</th>\n      <td>545</td>\n      <td>br</td>\n      <td>br</td>\n      <td>1</td>\n      <td>N</td>\n      <td>2</td>\n      <td>o</td>\n      <td>30/10/2022</td>\n      <td>17:54:05</td>\n      <td>30/10/2022</td>\n      <td>...</td>\n      <td>0</td>\n      <td>0,00</td>\n      <td>27890467</td>\n      <td>100,00</td>\n      <td>0</td>\n      <td>0,00</td>\n      <td>0</td>\n      <td>0,00</td>\n      <td>29104317</td>\n      <td>{'seq': '2', 'sqcand': '280001607829', 'n': '1...</td>\n    </tr>\n  </tbody>\n</table>\n<p>2 rows × 65 columns</p>\n</div>"
     },
     "execution_count": 102,
     "metadata": {},
     "output_type": "execute_result"
    }
   ],
   "source": [
    "df"
   ],
   "metadata": {
    "collapsed": false,
    "pycharm": {
     "name": "#%%\n"
    }
   }
  },
  {
   "cell_type": "code",
   "execution_count": 103,
   "outputs": [],
   "source": [
    "new_df = pd.DataFrame.from_records(df['cand'],index=['1', '2'])\n"
   ],
   "metadata": {
    "collapsed": false,
    "pycharm": {
     "name": "#%%\n"
    }
   }
  },
  {
   "cell_type": "code",
   "execution_count": 104,
   "outputs": [
    {
     "data": {
      "text/plain": "  seq        sqcand   n              nm  \\\n1   1  280001618036  22  JAIR BOLSONARO   \n2   2  280001607829  13            LULA   \n\n                                                  cc               nv  e st  \\\n1                        PL - PP / REPUBLICANOS / PL      BRAGA NETTO  n      \n2  PT - Federação Brasil da Esperança - FE BRASIL...  GERALDO ALCKMIN  n      \n\n      dvt       vap   pvap  \n1  Válido  14309202  51,30  \n2  Válido  13581265  48,70  ",
      "text/html": "<div>\n<style scoped>\n    .dataframe tbody tr th:only-of-type {\n        vertical-align: middle;\n    }\n\n    .dataframe tbody tr th {\n        vertical-align: top;\n    }\n\n    .dataframe thead th {\n        text-align: right;\n    }\n</style>\n<table border=\"1\" class=\"dataframe\">\n  <thead>\n    <tr style=\"text-align: right;\">\n      <th></th>\n      <th>seq</th>\n      <th>sqcand</th>\n      <th>n</th>\n      <th>nm</th>\n      <th>cc</th>\n      <th>nv</th>\n      <th>e</th>\n      <th>st</th>\n      <th>dvt</th>\n      <th>vap</th>\n      <th>pvap</th>\n    </tr>\n  </thead>\n  <tbody>\n    <tr>\n      <th>1</th>\n      <td>1</td>\n      <td>280001618036</td>\n      <td>22</td>\n      <td>JAIR BOLSONARO</td>\n      <td>PL - PP / REPUBLICANOS / PL</td>\n      <td>BRAGA NETTO</td>\n      <td>n</td>\n      <td></td>\n      <td>Válido</td>\n      <td>14309202</td>\n      <td>51,30</td>\n    </tr>\n    <tr>\n      <th>2</th>\n      <td>2</td>\n      <td>280001607829</td>\n      <td>13</td>\n      <td>LULA</td>\n      <td>PT - Federação Brasil da Esperança - FE BRASIL...</td>\n      <td>GERALDO ALCKMIN</td>\n      <td>n</td>\n      <td></td>\n      <td>Válido</td>\n      <td>13581265</td>\n      <td>48,70</td>\n    </tr>\n  </tbody>\n</table>\n</div>"
     },
     "execution_count": 104,
     "metadata": {},
     "output_type": "execute_result"
    }
   ],
   "source": [
    "new_df"
   ],
   "metadata": {
    "collapsed": false,
    "pycharm": {
     "name": "#%%\n"
    }
   }
  },
  {
   "cell_type": "code",
   "execution_count": 104,
   "outputs": [],
   "source": [],
   "metadata": {
    "collapsed": false,
    "pycharm": {
     "name": "#%%\n"
    }
   }
  },
  {
   "cell_type": "code",
   "execution_count": 105,
   "outputs": [],
   "source": [
    "votos_totais  = df['c'][0]\n"
   ],
   "metadata": {
    "collapsed": false,
    "pycharm": {
     "name": "#%%\n"
    }
   }
  },
  {
   "cell_type": "code",
   "execution_count": 106,
   "outputs": [],
   "source": [
    "votos_validos = df['vvc'][0]\n"
   ],
   "metadata": {
    "collapsed": false,
    "pycharm": {
     "name": "#%%\n"
    }
   }
  },
  {
   "cell_type": "code",
   "execution_count": 107,
   "outputs": [],
   "source": [
    "votos_nulos = df['tvn'][0]\n"
   ],
   "metadata": {
    "collapsed": false,
    "pycharm": {
     "name": "#%%\n"
    }
   }
  },
  {
   "cell_type": "code",
   "execution_count": 108,
   "outputs": [],
   "source": [
    "votos_brancos = df['vb'][0]\n"
   ],
   "metadata": {
    "collapsed": false,
    "pycharm": {
     "name": "#%%\n"
    }
   }
  },
  {
   "cell_type": "code",
   "execution_count": 109,
   "outputs": [],
   "source": [
    "abstencoes = df['a'][0]\n"
   ],
   "metadata": {
    "collapsed": false,
    "pycharm": {
     "name": "#%%\n"
    }
   }
  },
  {
   "cell_type": "code",
   "execution_count": 110,
   "outputs": [],
   "source": [
    "eleitorado_apurado = df['ea'][0] * 100 / QTD_ELEITORES\n"
   ],
   "metadata": {
    "collapsed": false,
    "pycharm": {
     "name": "#%%\n"
    }
   }
  },
  {
   "cell_type": "code",
   "execution_count": 111,
   "outputs": [
    {
     "name": "stdout",
     "output_type": "stream",
     "text": [
      "  numero  nome_candidato %_votos qtde_votos\n",
      "1     22  JAIR BOLSONARO   51,30   14309202\n",
      "2     13            LULA   48,70   13581265\n"
     ]
    }
   ],
   "source": [
    "votacao = new_df[['n','nm','pvap','vap']]\n",
    "votacao.columns = ['numero', 'nome_candidato', '%_votos', 'qtde_votos']\n",
    "print(votacao)"
   ],
   "metadata": {
    "collapsed": false,
    "pycharm": {
     "name": "#%%\n"
    }
   }
  },
  {
   "cell_type": "code",
   "execution_count": 112,
   "outputs": [
    {
     "name": "stdout",
     "output_type": "stream",
     "text": [
      "votos totais:  29104317\n",
      "votos validos:  27890467\n",
      "votos nulos:  823181\n",
      "votos brancos:  390669\n",
      "abstencoes:  7520217\n",
      "eleitorado_apurado:  23.41\n"
     ]
    }
   ],
   "source": [
    "print('votos totais: ', votos_totais )\n",
    "print('votos validos: ', votos_validos)\n",
    "print('votos nulos: ', votos_nulos)\n",
    "print('votos brancos: ', votos_brancos)\n",
    "print('abstencoes: ', abstencoes)\n",
    "print('eleitorado_apurado: ', round(eleitorado_apurado, 2))"
   ],
   "metadata": {
    "collapsed": false,
    "pycharm": {
     "name": "#%%\n"
    }
   }
  },
  {
   "cell_type": "code",
   "execution_count": 112,
   "outputs": [],
   "source": [],
   "metadata": {
    "collapsed": false,
    "pycharm": {
     "name": "#%%\n"
    }
   }
  }
 ],
 "metadata": {
  "kernelspec": {
   "display_name": "Python 3",
   "language": "python",
   "name": "python3"
  },
  "language_info": {
   "codemirror_mode": {
    "name": "ipython",
    "version": 2
   },
   "file_extension": ".py",
   "mimetype": "text/x-python",
   "name": "python",
   "nbconvert_exporter": "python",
   "pygments_lexer": "ipython2",
   "version": "2.7.6"
  }
 },
 "nbformat": 4,
 "nbformat_minor": 0
}